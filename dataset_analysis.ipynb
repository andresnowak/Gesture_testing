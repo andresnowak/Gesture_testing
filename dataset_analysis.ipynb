{
 "cells": [
  {
   "cell_type": "code",
   "execution_count": 1,
   "id": "dace1c8c",
   "metadata": {},
   "outputs": [],
   "source": [
    "import os\n",
    "import pandas as pd\n",
    "\n",
    "from src.data_preprocessing.helpers import get_video_info"
   ]
  },
  {
   "cell_type": "code",
   "execution_count": 2,
   "id": "cb238096",
   "metadata": {},
   "outputs": [],
   "source": [
    "path = os.path.expandvars(\"$SCRATCH/gesture/data/wlaslvideos\")"
   ]
  },
  {
   "cell_type": "code",
   "execution_count": 3,
   "id": "8fa7b8c1",
   "metadata": {},
   "outputs": [
    {
     "name": "stderr",
     "output_type": "stream",
     "text": [
      "[mov,mp4,m4a,3gp,3g2,mj2 @ 0x556a8cbb4b80] moov atom not found\n",
      "[mov,mp4,m4a,3gp,3g2,mj2 @ 0x556a8cbb4b80] moov atom not found\n",
      "[mov,mp4,m4a,3gp,3g2,mj2 @ 0x556a8cd3b0c0] moov atom not found\n"
     ]
    }
   ],
   "source": [
    "videos_info = []\n",
    "corrupted_files = []\n",
    "\n",
    "for file_path in os.listdir(path):\n",
    "    info = get_video_info(os.path.join(path, file_path))\n",
    "    if info is None:\n",
    "        corrupted_files.append(file_path)\n",
    "        continue\n",
    "\n",
    "    info[\"filename\"] = file_path\n",
    "    \n",
    "    videos_info.append(info)"
   ]
  },
  {
   "cell_type": "code",
   "execution_count": 4,
   "id": "b5feaec7",
   "metadata": {},
   "outputs": [],
   "source": [
    "df_video_info = pd.DataFrame(videos_info)\n",
    "df_video_info[\"video_id\"] = df_video_info[\"filename\"].str.split(\".\").str[0]"
   ]
  },
  {
   "cell_type": "code",
   "execution_count": 5,
   "id": "3c1460cd",
   "metadata": {},
   "outputs": [
    {
     "data": {
      "text/html": [
       "<div>\n",
       "<style scoped>\n",
       "    .dataframe tbody tr th:only-of-type {\n",
       "        vertical-align: middle;\n",
       "    }\n",
       "\n",
       "    .dataframe tbody tr th {\n",
       "        vertical-align: top;\n",
       "    }\n",
       "\n",
       "    .dataframe thead th {\n",
       "        text-align: right;\n",
       "    }\n",
       "</style>\n",
       "<table border=\"1\" class=\"dataframe\">\n",
       "  <thead>\n",
       "    <tr style=\"text-align: right;\">\n",
       "      <th></th>\n",
       "      <th>frame_count</th>\n",
       "      <th>fps</th>\n",
       "      <th>duration_seconds</th>\n",
       "      <th>width</th>\n",
       "      <th>height</th>\n",
       "      <th>filename</th>\n",
       "      <th>video_id</th>\n",
       "    </tr>\n",
       "  </thead>\n",
       "  <tbody>\n",
       "    <tr>\n",
       "      <th>0</th>\n",
       "      <td>113</td>\n",
       "      <td>30.002655</td>\n",
       "      <td>3.766333</td>\n",
       "      <td>640</td>\n",
       "      <td>480</td>\n",
       "      <td>37959.mp4</td>\n",
       "      <td>37959</td>\n",
       "    </tr>\n",
       "    <tr>\n",
       "      <th>1</th>\n",
       "      <td>43</td>\n",
       "      <td>23.976061</td>\n",
       "      <td>1.793456</td>\n",
       "      <td>1920</td>\n",
       "      <td>1080</td>\n",
       "      <td>22954.mp4</td>\n",
       "      <td>22954</td>\n",
       "    </tr>\n",
       "    <tr>\n",
       "      <th>2</th>\n",
       "      <td>30</td>\n",
       "      <td>29.970000</td>\n",
       "      <td>1.001001</td>\n",
       "      <td>288</td>\n",
       "      <td>192</td>\n",
       "      <td>21951.mp4</td>\n",
       "      <td>21951</td>\n",
       "    </tr>\n",
       "    <tr>\n",
       "      <th>3</th>\n",
       "      <td>53</td>\n",
       "      <td>25.000000</td>\n",
       "      <td>2.120000</td>\n",
       "      <td>480</td>\n",
       "      <td>320</td>\n",
       "      <td>45927.mp4</td>\n",
       "      <td>45927</td>\n",
       "    </tr>\n",
       "    <tr>\n",
       "      <th>4</th>\n",
       "      <td>100</td>\n",
       "      <td>25.000000</td>\n",
       "      <td>4.000000</td>\n",
       "      <td>626</td>\n",
       "      <td>360</td>\n",
       "      <td>70342.mp4</td>\n",
       "      <td>70342</td>\n",
       "    </tr>\n",
       "  </tbody>\n",
       "</table>\n",
       "</div>"
      ],
      "text/plain": [
       "   frame_count        fps  duration_seconds  width  height   filename video_id\n",
       "0          113  30.002655          3.766333    640     480  37959.mp4    37959\n",
       "1           43  23.976061          1.793456   1920    1080  22954.mp4    22954\n",
       "2           30  29.970000          1.001001    288     192  21951.mp4    21951\n",
       "3           53  25.000000          2.120000    480     320  45927.mp4    45927\n",
       "4          100  25.000000          4.000000    626     360  70342.mp4    70342"
      ]
     },
     "execution_count": 5,
     "metadata": {},
     "output_type": "execute_result"
    }
   ],
   "source": [
    "df_video_info.head()"
   ]
  },
  {
   "cell_type": "code",
   "execution_count": 6,
   "id": "dcc48162",
   "metadata": {},
   "outputs": [
    {
     "data": {
      "text/plain": [
       "frame_count         13185\n",
       "fps                 13185\n",
       "duration_seconds    13185\n",
       "width               13185\n",
       "height              13185\n",
       "filename            13185\n",
       "video_id            13185\n",
       "dtype: int64"
      ]
     },
     "execution_count": 6,
     "metadata": {},
     "output_type": "execute_result"
    }
   ],
   "source": [
    "df_video_info.count()"
   ]
  },
  {
   "cell_type": "code",
   "execution_count": 7,
   "id": "c3b56136",
   "metadata": {},
   "outputs": [],
   "source": [
    "df_wlasl_info = pd.read_json(\"data/WLASL_v0.3.json\")  # from https://www.kaggle.com/datasets/risangbaskoro/wlasl-processed?resource=download&select=WLASL_v0.3.json\n",
    "df_exploded = df_wlasl_info.explode(\"instances\")\n",
    "df_wlasl_info = pd.concat(\n",
    "    [df_exploded[\"gloss\"], df_exploded[\"instances\"].apply(pd.Series)], axis=1\n",
    ")"
   ]
  },
  {
   "cell_type": "code",
   "execution_count": null,
   "id": "0bf862fa",
   "metadata": {},
   "outputs": [
    {
     "data": {
      "text/plain": [
       "count    2000.000000\n",
       "mean       10.541500\n",
       "std         3.547192\n",
       "min         6.000000\n",
       "25%         8.000000\n",
       "50%        10.000000\n",
       "75%        12.000000\n",
       "max        40.000000\n",
       "Name: count, dtype: float64"
      ]
     },
     "execution_count": 8,
     "metadata": {},
     "output_type": "execute_result"
    }
   ],
   "source": [
    "df_wlasl_info[\"gloss\"].value_counts().describe()"
   ]
  },
  {
   "cell_type": "code",
   "execution_count": 9,
   "id": "fc10f7d6",
   "metadata": {},
   "outputs": [
    {
     "data": {
      "text/plain": [
       "gloss           21083\n",
       "bbox            21083\n",
       "fps             21083\n",
       "frame_end       21083\n",
       "frame_start     21083\n",
       "instance_id     21083\n",
       "signer_id       21083\n",
       "source          21083\n",
       "split           21083\n",
       "url             21083\n",
       "variation_id    21083\n",
       "video_id        21083\n",
       "dtype: int64"
      ]
     },
     "execution_count": 9,
     "metadata": {},
     "output_type": "execute_result"
    }
   ],
   "source": [
    "df_wlasl_info.count()"
   ]
  },
  {
   "cell_type": "code",
   "execution_count": null,
   "id": "23dd2e43",
   "metadata": {},
   "outputs": [],
   "source": [
    "intersection = pd.merge(df_video_info, df_wlasl_info, how='inner', left_on=[\"video_id\"], right_on=[\"video_id\"])\n",
    "df_video_info = intersection"
   ]
  },
  {
   "cell_type": "code",
   "execution_count": null,
   "id": "1cb61bf7",
   "metadata": {},
   "outputs": [],
   "source": [
    "df_gloss_map = pd.read_csv(\"data/gloss_map.csv\")"
   ]
  },
  {
   "cell_type": "code",
   "execution_count": null,
   "id": "0c5cfa50",
   "metadata": {},
   "outputs": [],
   "source": [
    "df_100 = pd.merge(\n",
    "    df_video_info,\n",
    "    df_gloss_map,\n",
    "    how=\"inner\",\n",
    "    left_on=[\"gloss\"],\n",
    "    right_on=[\"gloss\"],\n",
    ")"
   ]
  },
  {
   "cell_type": "code",
   "execution_count": 13,
   "id": "52c1efce",
   "metadata": {},
   "outputs": [
    {
     "data": {
      "text/html": [
       "<div>\n",
       "<style scoped>\n",
       "    .dataframe tbody tr th:only-of-type {\n",
       "        vertical-align: middle;\n",
       "    }\n",
       "\n",
       "    .dataframe tbody tr th {\n",
       "        vertical-align: top;\n",
       "    }\n",
       "\n",
       "    .dataframe thead th {\n",
       "        text-align: right;\n",
       "    }\n",
       "</style>\n",
       "<table border=\"1\" class=\"dataframe\">\n",
       "  <thead>\n",
       "    <tr style=\"text-align: right;\">\n",
       "      <th></th>\n",
       "      <th>frame_count</th>\n",
       "      <th>fps_x</th>\n",
       "      <th>duration_seconds</th>\n",
       "      <th>width</th>\n",
       "      <th>height</th>\n",
       "      <th>filename</th>\n",
       "      <th>video_id</th>\n",
       "      <th>gloss</th>\n",
       "      <th>bbox</th>\n",
       "      <th>fps_y</th>\n",
       "      <th>frame_end</th>\n",
       "      <th>frame_start</th>\n",
       "      <th>instance_id</th>\n",
       "      <th>signer_id</th>\n",
       "      <th>source</th>\n",
       "      <th>split</th>\n",
       "      <th>url</th>\n",
       "      <th>variation_id</th>\n",
       "      <th>label</th>\n",
       "    </tr>\n",
       "  </thead>\n",
       "  <tbody>\n",
       "    <tr>\n",
       "      <th>0</th>\n",
       "      <td>30</td>\n",
       "      <td>29.97000</td>\n",
       "      <td>1.001001</td>\n",
       "      <td>288</td>\n",
       "      <td>192</td>\n",
       "      <td>21951.mp4</td>\n",
       "      <td>21951</td>\n",
       "      <td>finish</td>\n",
       "      <td>[96, 16, 231, 192]</td>\n",
       "      <td>25</td>\n",
       "      <td>-1</td>\n",
       "      <td>1</td>\n",
       "      <td>18</td>\n",
       "      <td>11</td>\n",
       "      <td>signingsavvy</td>\n",
       "      <td>train</td>\n",
       "      <td>https://www.signingsavvy.com/signs/mp4/8/8336.mp4</td>\n",
       "      <td>1</td>\n",
       "      <td>180</td>\n",
       "    </tr>\n",
       "    <tr>\n",
       "      <th>1</th>\n",
       "      <td>100</td>\n",
       "      <td>25.00000</td>\n",
       "      <td>4.000000</td>\n",
       "      <td>626</td>\n",
       "      <td>360</td>\n",
       "      <td>70342.mp4</td>\n",
       "      <td>70342</td>\n",
       "      <td>friend</td>\n",
       "      <td>[188, 38, 449, 360]</td>\n",
       "      <td>25</td>\n",
       "      <td>3060</td>\n",
       "      <td>2961</td>\n",
       "      <td>2</td>\n",
       "      <td>121</td>\n",
       "      <td>northtexas</td>\n",
       "      <td>train</td>\n",
       "      <td>https://www.youtube.com/watch?v=bq-HmgjGzmw</td>\n",
       "      <td>0</td>\n",
       "      <td>183</td>\n",
       "    </tr>\n",
       "    <tr>\n",
       "      <th>2</th>\n",
       "      <td>50</td>\n",
       "      <td>25.00000</td>\n",
       "      <td>2.000000</td>\n",
       "      <td>480</td>\n",
       "      <td>320</td>\n",
       "      <td>28734.mp4</td>\n",
       "      <td>28734</td>\n",
       "      <td>if</td>\n",
       "      <td>[0, 0, 360, 240]</td>\n",
       "      <td>25</td>\n",
       "      <td>233</td>\n",
       "      <td>184</td>\n",
       "      <td>0</td>\n",
       "      <td>9</td>\n",
       "      <td>asl5200</td>\n",
       "      <td>train</td>\n",
       "      <td>https://www.youtube.com/watch?v=K1YuKDdDp_k</td>\n",
       "      <td>0</td>\n",
       "      <td>205</td>\n",
       "    </tr>\n",
       "    <tr>\n",
       "      <th>3</th>\n",
       "      <td>77</td>\n",
       "      <td>29.97003</td>\n",
       "      <td>2.569233</td>\n",
       "      <td>720</td>\n",
       "      <td>480</td>\n",
       "      <td>62253.mp4</td>\n",
       "      <td>62253</td>\n",
       "      <td>want</td>\n",
       "      <td>[93, 19, 424, 360]</td>\n",
       "      <td>25</td>\n",
       "      <td>-1</td>\n",
       "      <td>1</td>\n",
       "      <td>11</td>\n",
       "      <td>5</td>\n",
       "      <td>aslu</td>\n",
       "      <td>train</td>\n",
       "      <td>https://www.youtube.com/watch?v=aGzNpjV6-0I</td>\n",
       "      <td>0</td>\n",
       "      <td>98</td>\n",
       "    </tr>\n",
       "    <tr>\n",
       "      <th>4</th>\n",
       "      <td>73</td>\n",
       "      <td>23.97609</td>\n",
       "      <td>3.044700</td>\n",
       "      <td>656</td>\n",
       "      <td>370</td>\n",
       "      <td>65365.mp4</td>\n",
       "      <td>65365</td>\n",
       "      <td>clean</td>\n",
       "      <td>[159, 17, 466, 370]</td>\n",
       "      <td>25</td>\n",
       "      <td>-1</td>\n",
       "      <td>1</td>\n",
       "      <td>3</td>\n",
       "      <td>90</td>\n",
       "      <td>aslsignbank</td>\n",
       "      <td>val</td>\n",
       "      <td>https://aslsignbank.haskins.yale.edu/dictionar...</td>\n",
       "      <td>0</td>\n",
       "      <td>152</td>\n",
       "    </tr>\n",
       "  </tbody>\n",
       "</table>\n",
       "</div>"
      ],
      "text/plain": [
       "   frame_count     fps_x  duration_seconds  width  height   filename video_id  \\\n",
       "0           30  29.97000          1.001001    288     192  21951.mp4    21951   \n",
       "1          100  25.00000          4.000000    626     360  70342.mp4    70342   \n",
       "2           50  25.00000          2.000000    480     320  28734.mp4    28734   \n",
       "3           77  29.97003          2.569233    720     480  62253.mp4    62253   \n",
       "4           73  23.97609          3.044700    656     370  65365.mp4    65365   \n",
       "\n",
       "    gloss                 bbox  fps_y  frame_end  frame_start  instance_id  \\\n",
       "0  finish   [96, 16, 231, 192]     25         -1            1           18   \n",
       "1  friend  [188, 38, 449, 360]     25       3060         2961            2   \n",
       "2      if     [0, 0, 360, 240]     25        233          184            0   \n",
       "3    want   [93, 19, 424, 360]     25         -1            1           11   \n",
       "4   clean  [159, 17, 466, 370]     25         -1            1            3   \n",
       "\n",
       "   signer_id        source  split  \\\n",
       "0         11  signingsavvy  train   \n",
       "1        121    northtexas  train   \n",
       "2          9       asl5200  train   \n",
       "3          5          aslu  train   \n",
       "4         90   aslsignbank    val   \n",
       "\n",
       "                                                 url  variation_id  label  \n",
       "0  https://www.signingsavvy.com/signs/mp4/8/8336.mp4             1    180  \n",
       "1        https://www.youtube.com/watch?v=bq-HmgjGzmw             0    183  \n",
       "2        https://www.youtube.com/watch?v=K1YuKDdDp_k             0    205  \n",
       "3        https://www.youtube.com/watch?v=aGzNpjV6-0I             0     98  \n",
       "4  https://aslsignbank.haskins.yale.edu/dictionar...             0    152  "
      ]
     },
     "execution_count": 13,
     "metadata": {},
     "output_type": "execute_result"
    }
   ],
   "source": [
    "df_100.head()"
   ]
  },
  {
   "cell_type": "code",
   "execution_count": null,
   "id": "a09be3e1",
   "metadata": {},
   "outputs": [
    {
     "data": {
      "text/plain": [
       "1883"
      ]
     },
     "execution_count": 14,
     "metadata": {},
     "output_type": "execute_result"
    }
   ],
   "source": [
    "df_100[\"gloss\"].count()"
   ]
  },
  {
   "cell_type": "code",
   "execution_count": 15,
   "id": "3ba77efd",
   "metadata": {},
   "outputs": [
    {
     "data": {
      "text/plain": [
       "208"
      ]
     },
     "execution_count": 15,
     "metadata": {},
     "output_type": "execute_result"
    }
   ],
   "source": [
    "df_100[\"gloss\"].nunique()"
   ]
  }
 ],
 "metadata": {
  "kernelspec": {
   "display_name": "Python 3 (ipykernel)",
   "language": "python",
   "name": "python3"
  },
  "language_info": {
   "codemirror_mode": {
    "name": "ipython",
    "version": 3
   },
   "file_extension": ".py",
   "mimetype": "text/x-python",
   "name": "python",
   "nbconvert_exporter": "python",
   "pygments_lexer": "ipython3",
   "version": "3.10.19"
  }
 },
 "nbformat": 4,
 "nbformat_minor": 5
}
